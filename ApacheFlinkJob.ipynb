{
 "cells": [
  {
   "cell_type": "code",
   "execution_count": 6,
   "metadata": {},
   "outputs": [],
   "source": [
    "import os\n",
    "from pyflink.datastream import StreamExecutionEnvironment\n",
    "from pyflink.table import StreamTableEnvironment, EnvironmentSettings"
   ]
  },
  {
   "cell_type": "code",
   "execution_count": null,
   "metadata": {},
   "outputs": [
    {
     "data": {
      "text/plain": [
       "<pyflink.common.configuration.Configuration at 0x15665e410>"
      ]
     },
     "execution_count": 7,
     "metadata": {},
     "output_type": "execute_result"
    }
   ],
   "source": [
    "env = StreamExecutionEnvironment.get_execution_environment()\n",
    "\n",
    "#settings = EnvironmentSettings.new_instance().in_streaming_mode().use_blink_planner().build()\n",
    "\n",
    "# create table environment\n",
    "tbl_env = StreamTableEnvironment.create(stream_execution_environment=env)\n",
    "\n",
    "# add kafka connector dependency\n",
    "kafka_jar = \"<absolute_path>/flink-sql-connector-kafka-3.3.0-1.20.jar\"\n",
    "\n",
    "tbl_env.get_config()\\\n",
    "        .get_configuration()\\\n",
    "        .set_string(\"pipeline.jars\", \"file://{}\".format(kafka_jar))"
   ]
  },
  {
   "cell_type": "code",
   "execution_count": null,
   "metadata": {},
   "outputs": [
    {
     "name": "stdout",
     "output_type": "stream",
     "text": [
      "\n",
      "Source Schema\n",
      "(\n",
      "  `index` STRING,\n",
      "  `day` STRING,\n",
      "  `open` DOUBLE,\n",
      "  `high` DOUBLE,\n",
      "  `low` DOUBLE,\n",
      "  `close` DOUBLE,\n",
      "  `time` TIMESTAMP_LTZ(3) NOT NULL *PROCTIME* AS PROCTIME(),\n",
      "  `date` TIMESTAMP(3) *ROWTIME* AS TO_TIMESTAMP(`day`),\n",
      "  WATERMARK FOR `date`: TIMESTAMP(3) AS `date` - INTERVAL '5' SECOND\n",
      ")\n"
     ]
    }
   ],
   "source": [
    "#######################################################################\n",
    "# Create Kafka Source Table with DDL\n",
    "#######################################################################\n",
    "src_ddl = \"\"\"\n",
    "    CREATE TABLE sales_usd (\n",
    "        `index` STRING,\n",
    "        `day` STRING,\n",
    "        `open` DOUBLE,\n",
    "        `high` DOUBLE,\n",
    "        `low` DOUBLE,\n",
    "        `close` DOUBLE,\n",
    "        `time` AS PROCTIME(),\n",
    "        `date` AS TO_TIMESTAMP(`day`), \n",
    "        WATERMARK FOR `date` AS `date` - INTERVAL '5' SECOND\n",
    "    ) WITH (\n",
    "        'connector' = 'kafka',\n",
    "        'topic' = 'trade_events',\n",
    "        'properties.bootstrap.servers' = 'localhost:9092',\n",
    "        'properties.group.id' = 'trade_events_group',\n",
    "        'format' = 'json'\n",
    "    );\n",
    "\"\"\"\n",
    "\n",
    "tbl_env.execute_sql(src_ddl)\n",
    "\n",
    "# create and initiate loading of source Table\n",
    "tbl = tbl_env.from_path('sales_usd')\n",
    "\n",
    "print('\\nSource Schema')\n",
    "tbl.print_schema()"
   ]
  },
  {
   "cell_type": "code",
   "execution_count": null,
   "metadata": {},
   "outputs": [
    {
     "name": "stdout",
     "output_type": "stream",
     "text": [
      "\n",
      "Process Sink Schema\n",
      "(\n",
      "  `window_start` TIMESTAMP(3) NOT NULL,\n",
      "  `window_end` TIMESTAMP(3) NOT NULL,\n",
      "  `window_sales` DOUBLE\n",
      ")\n"
     ]
    }
   ],
   "source": [
    "#####################################################################\n",
    "# Define Tumbling Window Aggregate Calculation (Seller Sales Per Minute)\n",
    "#####################################################################\n",
    "sql = \"\"\"\n",
    "        SELECT\n",
    "          TUMBLE_START(`time`, INTERVAL '10' SECONDS) as window_start,\n",
    "          TUMBLE_END(`time`, INTERVAL '10' SECONDS) AS window_end,\n",
    "          SUM(`close`) AS window_sales\n",
    "        FROM sales_usd\n",
    "        GROUP BY\n",
    "          TUMBLE(`time`, INTERVAL '10' SECONDS)\n",
    "    \"\"\"\n",
    "revenue_tbl = tbl_env.sql_query(sql)\n",
    "\n",
    "print('\\nProcess Sink Schema')\n",
    "revenue_tbl.print_schema()"
   ]
  },
  {
   "cell_type": "code",
   "execution_count": null,
   "metadata": {},
   "outputs": [],
   "source": [
    "###############################################################\n",
    "# Create Kafka Sink Table\n",
    "###############################################################\n",
    "sink_ddl1 = \"\"\"\n",
    "    CREATE TABLE sales_euros (\n",
    "        window_start TIMESTAMP(0),\n",
    "        window_end TIMESTAMP(0),\n",
    "        window_sales DOUBLE\n",
    "    ) WITH (\n",
    "        'connector' = 'kafka',\n",
    "        'topic' = 'top_k_trades',\n",
    "        'properties.bootstrap.servers' = 'localhost:9092',\n",
    "        'format' = 'json'\n",
    "    )\n",
    "\"\"\"\n",
    "r = tbl_env.execute_sql(sink_ddl1)"
   ]
  },
  {
   "cell_type": "code",
   "execution_count": 13,
   "metadata": {},
   "outputs": [
    {
     "ename": "Py4JJavaError",
     "evalue": "An error occurred while calling o148.executeInsert.\n: java.lang.NullPointerException: metadataHandlerProvider\n\tat java.base/java.util.Objects.requireNonNull(Objects.java:259)\n\tat org.apache.calcite.rel.metadata.RelMetadataQueryBase.getMetadataHandlerProvider(RelMetadataQueryBase.java:122)\n\tat org.apache.calcite.rel.metadata.RelMetadataQueryBase.revise(RelMetadataQueryBase.java:118)\n\tat org.apache.calcite.rel.metadata.RelMetadataQuery.getPulledUpPredicates(RelMetadataQuery.java:844)\n\tat org.apache.calcite.rel.rules.ReduceExpressionsRule$ProjectReduceExpressionsRule.onMatch(ReduceExpressionsRule.java:307)\n\tat org.apache.calcite.plan.AbstractRelOptPlanner.fireRule(AbstractRelOptPlanner.java:337)\n\tat org.apache.calcite.plan.hep.HepPlanner.applyRule(HepPlanner.java:556)\n\tat org.apache.calcite.plan.hep.HepPlanner.applyRules(HepPlanner.java:420)\n\tat org.apache.calcite.plan.hep.HepPlanner.executeRuleInstance(HepPlanner.java:243)\n\tat org.apache.calcite.plan.hep.HepInstruction$RuleInstance$State.execute(HepInstruction.java:178)\n\tat org.apache.calcite.plan.hep.HepPlanner.lambda$executeProgram$0(HepPlanner.java:211)\n\tat org.apache.flink.calcite.shaded.com.google.common.collect.ImmutableList.forEach(ImmutableList.java:422)\n\tat org.apache.calcite.plan.hep.HepPlanner.executeProgram(HepPlanner.java:210)\n\tat org.apache.calcite.plan.hep.HepProgram$State.execute(HepProgram.java:118)\n\tat org.apache.calcite.plan.hep.HepPlanner.executeProgram(HepPlanner.java:205)\n\tat org.apache.calcite.plan.hep.HepPlanner.findBestExp(HepPlanner.java:191)\n\tat org.apache.flink.table.planner.plan.optimize.program.FlinkHepProgram.optimize(FlinkHepProgram.scala:64)\n\tat org.apache.flink.table.planner.plan.optimize.program.FlinkHepRuleSetProgram.optimize(FlinkHepRuleSetProgram.scala:78)\n\tat org.apache.flink.table.planner.plan.optimize.program.FlinkChainedProgram.$anonfun$optimize$1(FlinkChainedProgram.scala:59)\n\tat scala.collection.TraversableOnce.$anonfun$foldLeft$1(TraversableOnce.scala:156)\n\tat scala.collection.TraversableOnce.$anonfun$foldLeft$1$adapted(TraversableOnce.scala:156)\n\tat scala.collection.Iterator.foreach(Iterator.scala:937)\n\tat scala.collection.Iterator.foreach$(Iterator.scala:937)\n\tat scala.collection.AbstractIterator.foreach(Iterator.scala:1425)\n\tat scala.collection.IterableLike.foreach(IterableLike.scala:70)\n\tat scala.collection.IterableLike.foreach$(IterableLike.scala:69)\n\tat scala.collection.AbstractIterable.foreach(Iterable.scala:54)\n\tat scala.collection.TraversableOnce.foldLeft(TraversableOnce.scala:156)\n\tat scala.collection.TraversableOnce.foldLeft$(TraversableOnce.scala:154)\n\tat scala.collection.AbstractTraversable.foldLeft(Traversable.scala:104)\n\tat org.apache.flink.table.planner.plan.optimize.program.FlinkChainedProgram.optimize(FlinkChainedProgram.scala:55)\n\tat org.apache.flink.table.planner.plan.optimize.StreamCommonSubGraphBasedOptimizer.optimizeTree(StreamCommonSubGraphBasedOptimizer.scala:196)\n\tat org.apache.flink.table.planner.plan.optimize.StreamCommonSubGraphBasedOptimizer.optimizeSinkBlocks(StreamCommonSubGraphBasedOptimizer.scala:83)\n\tat org.apache.flink.table.planner.plan.optimize.StreamCommonSubGraphBasedOptimizer.doOptimize(StreamCommonSubGraphBasedOptimizer.scala:118)\n\tat org.apache.flink.table.planner.plan.optimize.CommonSubGraphBasedOptimizer.optimize(CommonSubGraphBasedOptimizer.scala:87)\n\tat org.apache.flink.table.planner.delegation.PlannerBase.optimize(PlannerBase.scala:320)\n\tat org.apache.flink.table.planner.delegation.PlannerBase.translate(PlannerBase.scala:178)\n\tat org.apache.flink.table.api.internal.TableEnvironmentImpl.translate(TableEnvironmentImpl.java:1308)\n\tat org.apache.flink.table.api.internal.TableEnvironmentImpl.executeInternal(TableEnvironmentImpl.java:874)\n\tat org.apache.flink.table.api.internal.TableEnvironmentImpl.executeInternal(TableEnvironmentImpl.java:1107)\n\tat org.apache.flink.table.api.internal.TablePipelineImpl.execute(TablePipelineImpl.java:59)\n\tat org.apache.flink.table.api.Table.executeInsert(Table.java:1074)\n\tat java.base/jdk.internal.reflect.DirectMethodHandleAccessor.invoke(DirectMethodHandleAccessor.java:104)\n\tat java.base/java.lang.reflect.Method.invoke(Method.java:578)\n\tat org.apache.flink.api.python.shaded.py4j.reflection.MethodInvoker.invoke(MethodInvoker.java:244)\n\tat org.apache.flink.api.python.shaded.py4j.reflection.ReflectionEngine.invoke(ReflectionEngine.java:374)\n\tat org.apache.flink.api.python.shaded.py4j.Gateway.invoke(Gateway.java:282)\n\tat org.apache.flink.api.python.shaded.py4j.commands.AbstractCommand.invokeMethod(AbstractCommand.java:132)\n\tat org.apache.flink.api.python.shaded.py4j.commands.CallCommand.execute(CallCommand.java:79)\n\tat org.apache.flink.api.python.shaded.py4j.GatewayConnection.run(GatewayConnection.java:238)\n\tat java.base/java.lang.Thread.run(Thread.java:1623)\n",
     "output_type": "error",
     "traceback": [
      "\u001b[0;31m---------------------------------------------------------------------------\u001b[0m",
      "\u001b[0;31mPy4JJavaError\u001b[0m                             Traceback (most recent call last)",
      "Cell \u001b[0;32mIn[13], line 2\u001b[0m\n\u001b[1;32m      1\u001b[0m \u001b[38;5;66;03m# write time windowed aggregations to sink table\u001b[39;00m\n\u001b[0;32m----> 2\u001b[0m revenue_tbl\u001b[38;5;241m.\u001b[39mexecute_insert(\u001b[38;5;124m'\u001b[39m\u001b[38;5;124msales_euros\u001b[39m\u001b[38;5;124m'\u001b[39m)\u001b[38;5;241m.\u001b[39mwait()\n\u001b[1;32m      3\u001b[0m tbl_env\u001b[38;5;241m.\u001b[39mexecute(\u001b[38;5;124m'\u001b[39m\u001b[38;5;124mwindowed-sales\u001b[39m\u001b[38;5;124m'\u001b[39m)\n",
      "File \u001b[0;32m~/miniconda3/lib/python3.11/site-packages/pyflink/table/table.py:1045\u001b[0m, in \u001b[0;36mTable.execute_insert\u001b[0;34m(self, table_path_or_descriptor, overwrite)\u001b[0m\n\u001b[1;32m   1043\u001b[0m \u001b[38;5;28mself\u001b[39m\u001b[38;5;241m.\u001b[39m_t_env\u001b[38;5;241m.\u001b[39m_before_execute()\n\u001b[1;32m   1044\u001b[0m \u001b[38;5;28;01mif\u001b[39;00m \u001b[38;5;28misinstance\u001b[39m(table_path_or_descriptor, \u001b[38;5;28mstr\u001b[39m):\n\u001b[0;32m-> 1045\u001b[0m     \u001b[38;5;28;01mreturn\u001b[39;00m TableResult(\u001b[38;5;28mself\u001b[39m\u001b[38;5;241m.\u001b[39m_j_table\u001b[38;5;241m.\u001b[39mexecuteInsert(table_path_or_descriptor, overwrite))\n\u001b[1;32m   1046\u001b[0m \u001b[38;5;28;01melse\u001b[39;00m:\n\u001b[1;32m   1047\u001b[0m     \u001b[38;5;28;01mreturn\u001b[39;00m TableResult(\u001b[38;5;28mself\u001b[39m\u001b[38;5;241m.\u001b[39m_j_table\u001b[38;5;241m.\u001b[39mexecuteInsert(\n\u001b[1;32m   1048\u001b[0m         table_path_or_descriptor\u001b[38;5;241m.\u001b[39m_j_table_descriptor, overwrite))\n",
      "File \u001b[0;32m~/miniconda3/lib/python3.11/site-packages/py4j/java_gateway.py:1322\u001b[0m, in \u001b[0;36mJavaMember.__call__\u001b[0;34m(self, *args)\u001b[0m\n\u001b[1;32m   1316\u001b[0m command \u001b[38;5;241m=\u001b[39m proto\u001b[38;5;241m.\u001b[39mCALL_COMMAND_NAME \u001b[38;5;241m+\u001b[39m\\\n\u001b[1;32m   1317\u001b[0m     \u001b[38;5;28mself\u001b[39m\u001b[38;5;241m.\u001b[39mcommand_header \u001b[38;5;241m+\u001b[39m\\\n\u001b[1;32m   1318\u001b[0m     args_command \u001b[38;5;241m+\u001b[39m\\\n\u001b[1;32m   1319\u001b[0m     proto\u001b[38;5;241m.\u001b[39mEND_COMMAND_PART\n\u001b[1;32m   1321\u001b[0m answer \u001b[38;5;241m=\u001b[39m \u001b[38;5;28mself\u001b[39m\u001b[38;5;241m.\u001b[39mgateway_client\u001b[38;5;241m.\u001b[39msend_command(command)\n\u001b[0;32m-> 1322\u001b[0m return_value \u001b[38;5;241m=\u001b[39m get_return_value(\n\u001b[1;32m   1323\u001b[0m     answer, \u001b[38;5;28mself\u001b[39m\u001b[38;5;241m.\u001b[39mgateway_client, \u001b[38;5;28mself\u001b[39m\u001b[38;5;241m.\u001b[39mtarget_id, \u001b[38;5;28mself\u001b[39m\u001b[38;5;241m.\u001b[39mname)\n\u001b[1;32m   1325\u001b[0m \u001b[38;5;28;01mfor\u001b[39;00m temp_arg \u001b[38;5;129;01min\u001b[39;00m temp_args:\n\u001b[1;32m   1326\u001b[0m     \u001b[38;5;28;01mif\u001b[39;00m \u001b[38;5;28mhasattr\u001b[39m(temp_arg, \u001b[38;5;124m\"\u001b[39m\u001b[38;5;124m_detach\u001b[39m\u001b[38;5;124m\"\u001b[39m):\n",
      "File \u001b[0;32m~/miniconda3/lib/python3.11/site-packages/pyflink/util/exceptions.py:146\u001b[0m, in \u001b[0;36mcapture_java_exception.<locals>.deco\u001b[0;34m(*a, **kw)\u001b[0m\n\u001b[1;32m    144\u001b[0m \u001b[38;5;28;01mdef\u001b[39;00m \u001b[38;5;21mdeco\u001b[39m(\u001b[38;5;241m*\u001b[39ma, \u001b[38;5;241m*\u001b[39m\u001b[38;5;241m*\u001b[39mkw):\n\u001b[1;32m    145\u001b[0m     \u001b[38;5;28;01mtry\u001b[39;00m:\n\u001b[0;32m--> 146\u001b[0m         \u001b[38;5;28;01mreturn\u001b[39;00m f(\u001b[38;5;241m*\u001b[39ma, \u001b[38;5;241m*\u001b[39m\u001b[38;5;241m*\u001b[39mkw)\n\u001b[1;32m    147\u001b[0m     \u001b[38;5;28;01mexcept\u001b[39;00m Py4JJavaError \u001b[38;5;28;01mas\u001b[39;00m e:\n\u001b[1;32m    148\u001b[0m         \u001b[38;5;28;01mfrom\u001b[39;00m \u001b[38;5;21;01mpyflink\u001b[39;00m\u001b[38;5;21;01m.\u001b[39;00m\u001b[38;5;21;01mjava_gateway\u001b[39;00m \u001b[38;5;28;01mimport\u001b[39;00m get_gateway\n",
      "File \u001b[0;32m~/miniconda3/lib/python3.11/site-packages/py4j/protocol.py:326\u001b[0m, in \u001b[0;36mget_return_value\u001b[0;34m(answer, gateway_client, target_id, name)\u001b[0m\n\u001b[1;32m    324\u001b[0m value \u001b[38;5;241m=\u001b[39m OUTPUT_CONVERTER[\u001b[38;5;28mtype\u001b[39m](answer[\u001b[38;5;241m2\u001b[39m:], gateway_client)\n\u001b[1;32m    325\u001b[0m \u001b[38;5;28;01mif\u001b[39;00m answer[\u001b[38;5;241m1\u001b[39m] \u001b[38;5;241m==\u001b[39m REFERENCE_TYPE:\n\u001b[0;32m--> 326\u001b[0m     \u001b[38;5;28;01mraise\u001b[39;00m Py4JJavaError(\n\u001b[1;32m    327\u001b[0m         \u001b[38;5;124m\"\u001b[39m\u001b[38;5;124mAn error occurred while calling \u001b[39m\u001b[38;5;132;01m{0}\u001b[39;00m\u001b[38;5;132;01m{1}\u001b[39;00m\u001b[38;5;132;01m{2}\u001b[39;00m\u001b[38;5;124m.\u001b[39m\u001b[38;5;130;01m\\n\u001b[39;00m\u001b[38;5;124m\"\u001b[39m\u001b[38;5;241m.\u001b[39m\n\u001b[1;32m    328\u001b[0m         \u001b[38;5;28mformat\u001b[39m(target_id, \u001b[38;5;124m\"\u001b[39m\u001b[38;5;124m.\u001b[39m\u001b[38;5;124m\"\u001b[39m, name), value)\n\u001b[1;32m    329\u001b[0m \u001b[38;5;28;01melse\u001b[39;00m:\n\u001b[1;32m    330\u001b[0m     \u001b[38;5;28;01mraise\u001b[39;00m Py4JError(\n\u001b[1;32m    331\u001b[0m         \u001b[38;5;124m\"\u001b[39m\u001b[38;5;124mAn error occurred while calling \u001b[39m\u001b[38;5;132;01m{0}\u001b[39;00m\u001b[38;5;132;01m{1}\u001b[39;00m\u001b[38;5;132;01m{2}\u001b[39;00m\u001b[38;5;124m. Trace:\u001b[39m\u001b[38;5;130;01m\\n\u001b[39;00m\u001b[38;5;132;01m{3}\u001b[39;00m\u001b[38;5;130;01m\\n\u001b[39;00m\u001b[38;5;124m\"\u001b[39m\u001b[38;5;241m.\u001b[39m\n\u001b[1;32m    332\u001b[0m         \u001b[38;5;28mformat\u001b[39m(target_id, \u001b[38;5;124m\"\u001b[39m\u001b[38;5;124m.\u001b[39m\u001b[38;5;124m\"\u001b[39m, name, value))\n",
      "\u001b[0;31mPy4JJavaError\u001b[0m: An error occurred while calling o148.executeInsert.\n: java.lang.NullPointerException: metadataHandlerProvider\n\tat java.base/java.util.Objects.requireNonNull(Objects.java:259)\n\tat org.apache.calcite.rel.metadata.RelMetadataQueryBase.getMetadataHandlerProvider(RelMetadataQueryBase.java:122)\n\tat org.apache.calcite.rel.metadata.RelMetadataQueryBase.revise(RelMetadataQueryBase.java:118)\n\tat org.apache.calcite.rel.metadata.RelMetadataQuery.getPulledUpPredicates(RelMetadataQuery.java:844)\n\tat org.apache.calcite.rel.rules.ReduceExpressionsRule$ProjectReduceExpressionsRule.onMatch(ReduceExpressionsRule.java:307)\n\tat org.apache.calcite.plan.AbstractRelOptPlanner.fireRule(AbstractRelOptPlanner.java:337)\n\tat org.apache.calcite.plan.hep.HepPlanner.applyRule(HepPlanner.java:556)\n\tat org.apache.calcite.plan.hep.HepPlanner.applyRules(HepPlanner.java:420)\n\tat org.apache.calcite.plan.hep.HepPlanner.executeRuleInstance(HepPlanner.java:243)\n\tat org.apache.calcite.plan.hep.HepInstruction$RuleInstance$State.execute(HepInstruction.java:178)\n\tat org.apache.calcite.plan.hep.HepPlanner.lambda$executeProgram$0(HepPlanner.java:211)\n\tat org.apache.flink.calcite.shaded.com.google.common.collect.ImmutableList.forEach(ImmutableList.java:422)\n\tat org.apache.calcite.plan.hep.HepPlanner.executeProgram(HepPlanner.java:210)\n\tat org.apache.calcite.plan.hep.HepProgram$State.execute(HepProgram.java:118)\n\tat org.apache.calcite.plan.hep.HepPlanner.executeProgram(HepPlanner.java:205)\n\tat org.apache.calcite.plan.hep.HepPlanner.findBestExp(HepPlanner.java:191)\n\tat org.apache.flink.table.planner.plan.optimize.program.FlinkHepProgram.optimize(FlinkHepProgram.scala:64)\n\tat org.apache.flink.table.planner.plan.optimize.program.FlinkHepRuleSetProgram.optimize(FlinkHepRuleSetProgram.scala:78)\n\tat org.apache.flink.table.planner.plan.optimize.program.FlinkChainedProgram.$anonfun$optimize$1(FlinkChainedProgram.scala:59)\n\tat scala.collection.TraversableOnce.$anonfun$foldLeft$1(TraversableOnce.scala:156)\n\tat scala.collection.TraversableOnce.$anonfun$foldLeft$1$adapted(TraversableOnce.scala:156)\n\tat scala.collection.Iterator.foreach(Iterator.scala:937)\n\tat scala.collection.Iterator.foreach$(Iterator.scala:937)\n\tat scala.collection.AbstractIterator.foreach(Iterator.scala:1425)\n\tat scala.collection.IterableLike.foreach(IterableLike.scala:70)\n\tat scala.collection.IterableLike.foreach$(IterableLike.scala:69)\n\tat scala.collection.AbstractIterable.foreach(Iterable.scala:54)\n\tat scala.collection.TraversableOnce.foldLeft(TraversableOnce.scala:156)\n\tat scala.collection.TraversableOnce.foldLeft$(TraversableOnce.scala:154)\n\tat scala.collection.AbstractTraversable.foldLeft(Traversable.scala:104)\n\tat org.apache.flink.table.planner.plan.optimize.program.FlinkChainedProgram.optimize(FlinkChainedProgram.scala:55)\n\tat org.apache.flink.table.planner.plan.optimize.StreamCommonSubGraphBasedOptimizer.optimizeTree(StreamCommonSubGraphBasedOptimizer.scala:196)\n\tat org.apache.flink.table.planner.plan.optimize.StreamCommonSubGraphBasedOptimizer.optimizeSinkBlocks(StreamCommonSubGraphBasedOptimizer.scala:83)\n\tat org.apache.flink.table.planner.plan.optimize.StreamCommonSubGraphBasedOptimizer.doOptimize(StreamCommonSubGraphBasedOptimizer.scala:118)\n\tat org.apache.flink.table.planner.plan.optimize.CommonSubGraphBasedOptimizer.optimize(CommonSubGraphBasedOptimizer.scala:87)\n\tat org.apache.flink.table.planner.delegation.PlannerBase.optimize(PlannerBase.scala:320)\n\tat org.apache.flink.table.planner.delegation.PlannerBase.translate(PlannerBase.scala:178)\n\tat org.apache.flink.table.api.internal.TableEnvironmentImpl.translate(TableEnvironmentImpl.java:1308)\n\tat org.apache.flink.table.api.internal.TableEnvironmentImpl.executeInternal(TableEnvironmentImpl.java:874)\n\tat org.apache.flink.table.api.internal.TableEnvironmentImpl.executeInternal(TableEnvironmentImpl.java:1107)\n\tat org.apache.flink.table.api.internal.TablePipelineImpl.execute(TablePipelineImpl.java:59)\n\tat org.apache.flink.table.api.Table.executeInsert(Table.java:1074)\n\tat java.base/jdk.internal.reflect.DirectMethodHandleAccessor.invoke(DirectMethodHandleAccessor.java:104)\n\tat java.base/java.lang.reflect.Method.invoke(Method.java:578)\n\tat org.apache.flink.api.python.shaded.py4j.reflection.MethodInvoker.invoke(MethodInvoker.java:244)\n\tat org.apache.flink.api.python.shaded.py4j.reflection.ReflectionEngine.invoke(ReflectionEngine.java:374)\n\tat org.apache.flink.api.python.shaded.py4j.Gateway.invoke(Gateway.java:282)\n\tat org.apache.flink.api.python.shaded.py4j.commands.AbstractCommand.invokeMethod(AbstractCommand.java:132)\n\tat org.apache.flink.api.python.shaded.py4j.commands.CallCommand.execute(CallCommand.java:79)\n\tat org.apache.flink.api.python.shaded.py4j.GatewayConnection.run(GatewayConnection.java:238)\n\tat java.base/java.lang.Thread.run(Thread.java:1623)\n"
     ]
    }
   ],
   "source": [
    "# write time windowed aggregations to sink table\n",
    "revenue_tbl.execute_insert('sales_euros').wait()\n",
    "tbl_env.execute('windowed-sales')"
   ]
  }
 ],
 "metadata": {
  "kernelspec": {
   "display_name": "base",
   "language": "python",
   "name": "python3"
  },
  "language_info": {
   "codemirror_mode": {
    "name": "ipython",
    "version": 3
   },
   "file_extension": ".py",
   "mimetype": "text/x-python",
   "name": "python",
   "nbconvert_exporter": "python",
   "pygments_lexer": "ipython3",
   "version": "3.11.4"
  }
 },
 "nbformat": 4,
 "nbformat_minor": 2
}
